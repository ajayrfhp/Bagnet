{
 "cells": [
  {
   "cell_type": "markdown",
   "metadata": {},
   "source": [
    "# Interpretabble image classifier using deep learning"
   ]
  },
  {
   "cell_type": "code",
   "execution_count": 32,
   "metadata": {},
   "outputs": [],
   "source": [
    "import torch\n",
    "import torch.nn as nn\n",
    "import torch.nn.functional as F\n",
    "import torch.optim as optim\n",
    "from torchsummary import summary\n",
    "import torch.utils.data\n",
    "from torchvision import datasets, transforms\n",
    "from matplotlib import pyplot as plt\n",
    "import numpy as np"
   ]
  },
  {
   "cell_type": "markdown",
   "metadata": {},
   "source": [
    "# Plan\n",
    "\n",
    "1. Define basic skeleton\n",
    "2. Train and test that feature model works\n",
    "    2.1 Define dataset loaders\n",
    "    2.2 Plot some training and test images from data loaders\n",
    "    2.3 Write fit function\n",
    "    2.4 Write evaluate function\n",
    "3. Train and test adhoc model\n",
    "4. Visualize heatmap"
   ]
  },
  {
   "cell_type": "code",
   "execution_count": 64,
   "metadata": {},
   "outputs": [
    {
     "data": {
      "text/plain": [
       "torch.Size([1, 100])"
      ]
     },
     "execution_count": 64,
     "metadata": {},
     "output_type": "execute_result"
    }
   ],
   "source": [
    "class FeatureModel(nn.Module):\n",
    "    def __init__(self):\n",
    "        '''\n",
    "        Define model that maps (3, Q, Q) to (V)        \n",
    "        '''\n",
    "        super(FeatureModel, self).__init__()\n",
    "        self.l1 = self.get_conv_layer((1, 64, 3))\n",
    "        self.l2 = self.get_conv_layer((64, 64, 3))\n",
    "        self.l3 = self.get_conv_layer((64, 128, 3))\n",
    "        self.l = nn.Sequential(*[self.l1, self.l2, self.l3])\n",
    "        self.fc1 = nn.Linear(128*22*22, 100)\n",
    "\n",
    "    def get_conv_layer(self, param):\n",
    "        return nn.Sequential(*[nn.Conv2d(*param), nn.BatchNorm2d(param[1]), nn.ReLU()])\n",
    "        \n",
    "    def forward(self, x):\n",
    "        '''\n",
    "        Args\n",
    "            patch - (3, Q, Q)\n",
    "        Returns\n",
    "            representation - (V)\n",
    "        Convolutional neural network that maps patch to a vector\n",
    "        '''\n",
    "        x1 = self.l(x)\n",
    "        return self.fc1(x1.view(-1, 128*22*22))\n",
    "\n",
    "model = FeatureModel()\n",
    "model(torch.randn(1, 1, 28, 28)).shape\n"
   ]
  },
  {
   "cell_type": "code",
   "execution_count": 66,
   "metadata": {},
   "outputs": [],
   "source": [
    "class AdhocNet(nn.Module):\n",
    "    def __init__(self, patch_size):\n",
    "        super(AdhocNet, self).__init__()\n",
    "        self.patch_size = patch_size\n",
    "        self.feature_model = FeatureModel()\n",
    "        self.predictor = nn.Linear(100, 10)\n",
    "            \n",
    "    def img_to_patch(self, img, patch_size):\n",
    "        '''\n",
    "        Args\n",
    "            img - (3, W, H)\n",
    "            patch_size - (Q)\n",
    "        Returns\n",
    "            Patches (W/Q, H/Q, 3, Q, Q)\n",
    "        '''\n",
    "        num_patches = int(img.shape[1] / patch_size)\n",
    "        img1 = torch.stack(torch.split(img, num_patches, dim=2))\n",
    "        img2 = torch.stack(torch.split(img1, num_patches, dim=2))\n",
    "        return img2.permute(3, 4, 2, 0, 1)\n",
    "    \n",
    "   \n",
    "    def patches_to_representations(self, patches):\n",
    "        '''\n",
    "        Args\n",
    "            patches - (W/Q, H/Q, 3, Q, Q)\n",
    "        Returns\n",
    "            representations - (W/Q, H/Q, V)\n",
    "        '''\n",
    "        representations = []\n",
    "        for i in range(patches.shape[0]):\n",
    "            row = []\n",
    "            for j in range(patches.shape[1]):\n",
    "                features = self.feature_model(patches[i,j].unsqueeze(0))\n",
    "                row.append(features[0])\n",
    "            representations.append(torch.stack(row))\n",
    "        representations = torch.stack(representations)\n",
    "        return representations\n",
    "\n",
    "    def forward(self, x):\n",
    "        batch_patches = torch.stack([self.img_to_patch(img, self.patch_size) for img in x])\n",
    "        batch_representations = torch.stack([ self.patches_to_representations(patches) for patches in batch_patches])\n",
    "        return batch_representations\n",
    "        \n",
    "\n",
    "model = AdhocNet(10)\n",
    "#rep = model(torch.randn(1, 3, 200, 200))\n",
    "#rep.shape"
   ]
  },
  {
   "cell_type": "markdown",
   "metadata": {},
   "source": [
    "## Data"
   ]
  },
  {
   "cell_type": "code",
   "execution_count": 67,
   "metadata": {},
   "outputs": [
    {
     "data": {
      "text/plain": [
       "(<torch.utils.data.dataloader.DataLoader at 0x7f40fe174748>,\n",
       " <torch.utils.data.dataloader.DataLoader at 0x7f40fdbfdef0>)"
      ]
     },
     "execution_count": 67,
     "metadata": {},
     "output_type": "execute_result"
    }
   ],
   "source": [
    "transform = transforms.Compose([\n",
    "    # you can add other transformations in this list\n",
    "    transforms.ToTensor()\n",
    "])\n",
    "train_loader = torch.utils.data.DataLoader(datasets.FashionMNIST('../data', train=True, download=True, transform = transform),\n",
    "        batch_size=1, shuffle=True)\n",
    "test_loader = torch.utils.data.DataLoader(datasets.FashionMNIST('../data', train=False, download=True, transform = transform),\n",
    "        batch_size=1, shuffle=True)\n",
    "train_loader, test_loader"
   ]
  },
  {
   "cell_type": "markdown",
   "metadata": {},
   "source": [
    "## Plot some images from train and test\n"
   ]
  },
  {
   "cell_type": "code",
   "execution_count": 68,
   "metadata": {
    "scrolled": true
   },
   "outputs": [
    {
     "data": {
      "image/png": "[encoded data removed]",
      "text/plain": [
       "<Figure size 216x216 with 1 Axes>"
      ]
     },
     "metadata": {
      "needs_background": "light"
     },
     "output_type": "display_data"
    },
    {
     "name": "stdout",
     "output_type": "stream",
     "text": [
      "Pullover\n"
     ]
    },
    {
     "data": {
      "image/png": "[encoded data removed]",
      "text/plain": [
       "<Figure size 216x216 with 1 Axes>"
      ]
     },
     "metadata": {
      "needs_background": "light"
     },
     "output_type": "display_data"
    },
    {
     "name": "stdout",
     "output_type": "stream",
     "text": [
      "Trouser\n"
     ]
    },
    {
     "data": {
      "image/png": "[encoded data removed]",
      "text/plain": [
       "<Figure size 216x216 with 1 Axes>"
      ]
     },
     "metadata": {
      "needs_background": "light"
     },
     "output_type": "display_data"
    },
    {
     "name": "stdout",
     "output_type": "stream",
     "text": [
      "Sneaker\n"
     ]
    },
    {
     "data": {
      "image/png": "[encoded data removed]",
      "text/plain": [
       "<Figure size 216x216 with 1 Axes>"
      ]
     },
     "metadata": {
      "needs_background": "light"
     },
     "output_type": "display_data"
    },
    {
     "name": "stdout",
     "output_type": "stream",
     "text": [
      "Sneaker\n"
     ]
    },
    {
     "data": {
      "image/png": "[encoded data removed]",
      "text/plain": [
       "<Figure size 216x216 with 1 Axes>"
      ]
     },
     "metadata": {
      "needs_background": "light"
     },
     "output_type": "display_data"
    },
    {
     "name": "stdout",
     "output_type": "stream",
     "text": [
      "Sandal\n"
     ]
    },
    {
     "data": {
      "image/png": "[encoded data removed]",
      "text/plain": [
       "<Figure size 216x216 with 1 Axes>"
      ]
     },
     "metadata": {
      "needs_background": "light"
     },
     "output_type": "display_data"
    },
    {
     "name": "stdout",
     "output_type": "stream",
     "text": [
      "Shirt\n"
     ]
    },
    {
     "data": {
      "image/png": "[encoded data removed]",
      "text/plain": [
       "<Figure size 216x216 with 1 Axes>"
      ]
     },
     "metadata": {
      "needs_background": "light"
     },
     "output_type": "display_data"
    },
    {
     "name": "stdout",
     "output_type": "stream",
     "text": [
      "T-shirt/top\n"
     ]
    },
    {
     "data": {
      "image/png": "[encoded data removed]",
      "text/plain": [
       "<Figure size 216x216 with 1 Axes>"
      ]
     },
     "metadata": {
      "needs_background": "light"
     },
     "output_type": "display_data"
    },
    {
     "name": "stdout",
     "output_type": "stream",
     "text": [
      "Shirt\n"
     ]
    },
    {
     "data": {
      "image/png": "[encoded data removed]",
      "text/plain": [
       "<Figure size 216x216 with 1 Axes>"
      ]
     },
     "metadata": {
      "needs_background": "light"
     },
     "output_type": "display_data"
    },
    {
     "name": "stdout",
     "output_type": "stream",
     "text": [
      "Sneaker\n"
     ]
    },
    {
     "data": {
      "image/png": "[encoded data removed]",
      "text/plain": [
       "<Figure size 216x216 with 1 Axes>"
      ]
     },
     "metadata": {
      "needs_background": "light"
     },
     "output_type": "display_data"
    },
    {
     "name": "stdout",
     "output_type": "stream",
     "text": [
      "Shirt\n"
     ]
    }
   ],
   "source": [
    "label_map = { 0: 'T-shirt/top', 1:'Trouser', 2 : 'Pullover',\n",
    "              3: 'Dress', 4 : 'Coat', 5 : 'Sandal',\n",
    "              6 : 'Shirt', 7 : 'Sneaker', 8: 'Bag',\n",
    "              9 : 'Ankle boot'}\n",
    "\n",
    "def visualize_dataset(data_loader):\n",
    "    for _ in range(5):\n",
    "        inputs, outputs = next(iter(data_loader))\n",
    "        plt.figure(figsize=(3,3))\n",
    "        plt.imshow(inputs[0][0], cmap = 'gray')\n",
    "        plt.show()\n",
    "        print(label_map[outputs[0].item()])\n",
    "    \n",
    "visualize_dataset(train_loader)\n",
    "visualize_dataset(test_loader)\n",
    "    "
   ]
  },
  {
   "cell_type": "markdown",
   "metadata": {},
   "source": [
    "## Define fit function\n"
   ]
  },
  {
   "cell_type": "code",
   "execution_count": 70,
   "metadata": {},
   "outputs": [
    {
     "data": {
      "text/plain": [
       "torch.Size([1, 10])"
      ]
     },
     "execution_count": 70,
     "metadata": {},
     "output_type": "execute_result"
    }
   ],
   "source": [
    "class Classifier(nn.Module):\n",
    "    def __init__(self):\n",
    "        super(Classifier, self).__init__()\n",
    "        self.base_model = FeatureModel()\n",
    "        self.fc1 = nn.Linear(100, 10)\n",
    "    def forward(self, x):\n",
    "        x1 = self.base_model(x)\n",
    "        return self.fc1(x1)\n",
    "    \n",
    "classifier = Classifier()\n",
    "classifier(torch.randn(1, 1, 28, 28)).shape"
   ]
  },
  {
   "cell_type": "code",
   "execution_count": null,
   "metadata": {},
   "outputs": [],
   "source": [
    "criterion = nn.CrossEntropyLoss()\n",
    "optimizer = optim.Adam(classifier.parameters(), lr=0.001)\n",
    "\n",
    "def fit(model, train_loader, metric, optimizer, epochs = 5, log_every = 100):\n",
    "    for j in range(epochs):\n",
    "        total = 0\n",
    "        correct = 0\n",
    "        losses = []\n",
    "        for i, (inputs, outputs) in enumerate(train_loader):\n",
    "            optimizer.zero_grad()\n",
    "            predictions = model(inputs)\n",
    "            loss = metric(predictions, outputs)  \n",
    "            correct += sum(torch.max(predictions, -1)[1] == outputs).item()\n",
    "            total += predictions.shape[0]\n",
    "            loss.backward()\n",
    "            optimizer.step()\n",
    "            losses.append(loss.item())\n",
    "            if i%log_every == 0:\n",
    "                print(i, j, np.mean(losses), correct/total)\n",
    "                \n",
    "fit(classifier, train_loader, criterion, optimizer, epochs = 3, log_every = 100)"
   ]
  },
  {
   "cell_type": "markdown",
   "metadata": {},
   "source": [
    "## Define evaluate function\n"
   ]
  },
  {
   "cell_type": "code",
   "execution_count": 77,
   "metadata": {},
   "outputs": [
    {
     "name": "stdout",
     "output_type": "stream",
     "text": [
      "0\n",
      "1000\n",
      "2000\n",
      "3000\n",
      "4000\n",
      "5000\n",
      "6000\n",
      "7000\n",
      "8000\n",
      "9000\n"
     ]
    },
    {
     "data": {
      "text/plain": [
       "0.8093"
      ]
     },
     "execution_count": 77,
     "metadata": {},
     "output_type": "execute_result"
    }
   ],
   "source": [
    "def evaluate(model, test_loader):\n",
    "    correct = 0\n",
    "    total = 0\n",
    "    for i, data in enumerate(test_loader):\n",
    "        inputs, outputs = data\n",
    "        predictions = model(inputs)\n",
    "        predictions = torch.max(predictions, -1)[1]\n",
    "        correct += sum(predictions == outputs).item()\n",
    "        total += predictions.shape[0]\n",
    "        if i%1000 == 0:\n",
    "            print(i)\n",
    "    return correct / total\n",
    "        \n",
    "        \n",
    "evaluate(classifier, test_loader)"
   ]
  },
  {
   "cell_type": "markdown",
   "metadata": {},
   "source": [
    "## Visualize representations"
   ]
  },
  {
   "cell_type": "code",
   "execution_count": null,
   "metadata": {},
   "outputs": [],
   "source": []
  }
 ],
 "metadata": {
  "kernelspec": {
   "display_name": "Python 3",
   "language": "python",
   "name": "python3"
  },
  "language_info": {
   "codemirror_mode": {
    "name": "ipython",
    "version": 3
   },
   "file_extension": ".py",
   "mimetype": "text/x-python",
   "name": "python",
   "nbconvert_exporter": "python",
   "pygments_lexer": "ipython3",
   "version": "3.7.3"
  }
 },
 "nbformat": 4,
 "nbformat_minor": 2
}
