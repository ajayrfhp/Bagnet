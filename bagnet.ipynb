{
 "cells": [
  {
   "cell_type": "markdown",
   "metadata": {},
   "source": [
    "# Interpretabble image classifier using deep learning"
   ]
  },
  {
   "cell_type": "code",
   "execution_count": 1,
   "metadata": {},
   "outputs": [],
   "source": [
    "import torch\n",
    "import torch.nn as nn\n",
    "import torch.nn.functional as F\n",
    "import torch.optim as optim"
   ]
  },
  {
   "cell_type": "code",
   "execution_count": 8,
   "metadata": {},
   "outputs": [
    {
     "data": {
      "text/plain": [
       "torch.Size([224, 224, 3])"
      ]
     },
     "execution_count": 8,
     "metadata": {},
     "output_type": "execute_result"
    }
   ],
   "source": [
    "x = torch.rand(100, 100, 3)\n",
    "q = 10\n",
    "x.shape"
   ]
  },
  {
   "cell_type": "code",
   "execution_count": 49,
   "metadata": {},
   "outputs": [
    {
     "data": {
      "text/plain": [
       "torch.Size([1, 1, 4, 4])"
      ]
     },
     "execution_count": 49,
     "metadata": {},
     "output_type": "execute_result"
    }
   ],
   "source": [
    "class BagNet9(nn.Module):\n",
    "    def get_resblock(self, conv_parameters):\n",
    "        res_layers = [ nn.Conv2d(*conv_param) for conv_param in conv_parameters]\n",
    "        res_block = nn.Sequential(*res_layers)\n",
    "        return res_block\n",
    "        \n",
    "    def __init__(self):\n",
    "        super(BagNet9, self).__init__()\n",
    "        self.c1 = nn.Conv2d(1, 1, 4, stride = 4)\n",
    "        #self.res1 = self.get_resblock([(16, 16, 1), (16, 16, 3), (16, 16, 3)])\n",
    "        \n",
    "        \n",
    "    def forward(self, x):\n",
    "        h1 = self.c1(x)\n",
    "        #h2 = self.res1(h1)\n",
    "        return h1\n",
    "\n",
    "\n",
    "\n",
    "\n",
    "x = torch.randn((1, 1, 16, 16), dtype = torch.float)\n",
    "model = BagNet9()\n",
    "model(x).shape"
   ]
  },
  {
   "cell_type": "code",
   "execution_count": null,
   "metadata": {},
   "outputs": [],
   "source": []
  }
 ],
 "metadata": {
  "kernelspec": {
   "display_name": "Python 3",
   "language": "python",
   "name": "python3"
  },
  "language_info": {
   "codemirror_mode": {
    "name": "ipython",
    "version": 3
   },
   "file_extension": ".py",
   "mimetype": "text/x-python",
   "name": "python",
   "nbconvert_exporter": "python",
   "pygments_lexer": "ipython3",
   "version": "3.7.3"
  }
 },
 "nbformat": 4,
 "nbformat_minor": 2
}
